{
 "cells": [
  {
   "cell_type": "code",
   "execution_count": 17,
   "metadata": {},
   "outputs": [],
   "source": [
    "from sklearn.datasets import load_boston\n",
    "import numpy as np\n",
    "import matplotlib.pyplot as plt\n",
    "from superai.regression.model.linear_regression import Linear_Regression, polynomial_expand"
   ]
  },
  {
   "cell_type": "code",
   "execution_count": 18,
   "metadata": {},
   "outputs": [
    {
     "data": {
      "text/plain": [
       "[<matplotlib.lines.Line2D at 0x129ef4630>,\n",
       " <matplotlib.lines.Line2D at 0x129f19ba8>,\n",
       " <matplotlib.lines.Line2D at 0x129f19cf8>,\n",
       " <matplotlib.lines.Line2D at 0x129f19e48>,\n",
       " <matplotlib.lines.Line2D at 0x129f19f98>,\n",
       " <matplotlib.lines.Line2D at 0x129f22128>,\n",
       " <matplotlib.lines.Line2D at 0x129f22278>,\n",
       " <matplotlib.lines.Line2D at 0x129f223c8>,\n",
       " <matplotlib.lines.Line2D at 0x129f22518>,\n",
       " <matplotlib.lines.Line2D at 0x129f22668>,\n",
       " <matplotlib.lines.Line2D at 0x129efe518>,\n",
       " <matplotlib.lines.Line2D at 0x129f228d0>,\n",
       " <matplotlib.lines.Line2D at 0x129f22a20>,\n",
       " <matplotlib.lines.Line2D at 0x129f22b70>,\n",
       " <matplotlib.lines.Line2D at 0x129f22cc0>,\n",
       " <matplotlib.lines.Line2D at 0x129f22e10>,\n",
       " <matplotlib.lines.Line2D at 0x129f22f60>,\n",
       " <matplotlib.lines.Line2D at 0x129f290f0>,\n",
       " <matplotlib.lines.Line2D at 0x129f29240>,\n",
       " <matplotlib.lines.Line2D at 0x129f29390>]"
      ]
     },
     "execution_count": 18,
     "metadata": {},
     "output_type": "execute_result"
    },
    {
     "data": {
      "image/png": "[encoded data removed]",
      "text/plain": [
       "<Figure size 432x288 with 2 Axes>"
      ]
     },
     "metadata": {
      "needs_background": "light"
     },
     "output_type": "display_data"
    }
   ],
   "source": [
    "# 一元线性回归\n",
    "X = np.linspace(0, 1, 20)\n",
    "salt = np.random.rand(20) - 0.5\n",
    "Y = -10*X + 6 + salt\n",
    "\n",
    "plt.subplot(1, 2, 1)\n",
    "plt.plot(X, Y, '.')\n",
    "\n",
    "X = X[np.newaxis, :]\n",
    "Y = Y[np.newaxis, :]\n",
    "model = Linear_Regression(1)\n",
    "model.fit(X, Y, 0.1, verbose=False)\n",
    "\n",
    "Y_ = model.predict(X)\n",
    "plt.subplot(1, 2, 2)\n",
    "plt.plot(X, Y_, '.')"
   ]
  },
  {
   "cell_type": "code",
   "execution_count": 33,
   "metadata": {},
   "outputs": [
    {
     "data": {
      "image/png": "[encoded data removed]",
      "text/plain": [
       "<Figure size 432x288 with 1 Axes>"
      ]
     },
     "metadata": {
      "needs_background": "light"
     },
     "output_type": "display_data"
    }
   ],
   "source": [
    "X = np.linspace(0, 2.5, 100)\n",
    "Y = 3 * X**2 - 2 * X + 3\n",
    "plt.plot(X, Y, '.')\n",
    "\n",
    "X = X[np.newaxis, :]\n",
    "Y = Y[np.newaxis, :]"
   ]
  },
  {
   "cell_type": "code",
   "execution_count": 34,
   "metadata": {},
   "outputs": [
    {
     "data": {
      "text/plain": [
       "[<matplotlib.lines.Line2D at 0x12a4c1e80>,\n",
       " <matplotlib.lines.Line2D at 0x12a4c1f98>,\n",
       " <matplotlib.lines.Line2D at 0x12a4c7128>,\n",
       " <matplotlib.lines.Line2D at 0x12a4c7278>,\n",
       " <matplotlib.lines.Line2D at 0x12a4c73c8>,\n",
       " <matplotlib.lines.Line2D at 0x12a4c7518>,\n",
       " <matplotlib.lines.Line2D at 0x12a4c7668>,\n",
       " <matplotlib.lines.Line2D at 0x12a4c77b8>,\n",
       " <matplotlib.lines.Line2D at 0x12a4c7908>,\n",
       " <matplotlib.lines.Line2D at 0x12a4c7a58>,\n",
       " <matplotlib.lines.Line2D at 0x12a408d30>,\n",
       " <matplotlib.lines.Line2D at 0x12a4c7cc0>,\n",
       " <matplotlib.lines.Line2D at 0x12a4c7e10>,\n",
       " <matplotlib.lines.Line2D at 0x12a4c7f60>,\n",
       " <matplotlib.lines.Line2D at 0x12a4bb0f0>,\n",
       " <matplotlib.lines.Line2D at 0x12a4bb240>,\n",
       " <matplotlib.lines.Line2D at 0x12a4bb390>,\n",
       " <matplotlib.lines.Line2D at 0x12a4bb4e0>,\n",
       " <matplotlib.lines.Line2D at 0x12a4bb630>,\n",
       " <matplotlib.lines.Line2D at 0x12a4bb780>,\n",
       " <matplotlib.lines.Line2D at 0x12a4bb8d0>,\n",
       " <matplotlib.lines.Line2D at 0x12a4bba20>,\n",
       " <matplotlib.lines.Line2D at 0x12a4bbb70>,\n",
       " <matplotlib.lines.Line2D at 0x12a4bbcc0>,\n",
       " <matplotlib.lines.Line2D at 0x12a4bbe10>,\n",
       " <matplotlib.lines.Line2D at 0x12a4bbf60>,\n",
       " <matplotlib.lines.Line2D at 0x12ade20f0>,\n",
       " <matplotlib.lines.Line2D at 0x12ade2240>,\n",
       " <matplotlib.lines.Line2D at 0x12ade2390>,\n",
       " <matplotlib.lines.Line2D at 0x12ade24e0>,\n",
       " <matplotlib.lines.Line2D at 0x12ade2630>,\n",
       " <matplotlib.lines.Line2D at 0x12ade2780>,\n",
       " <matplotlib.lines.Line2D at 0x12ade28d0>,\n",
       " <matplotlib.lines.Line2D at 0x12ade2a20>,\n",
       " <matplotlib.lines.Line2D at 0x12ade2b70>,\n",
       " <matplotlib.lines.Line2D at 0x12ade2cc0>,\n",
       " <matplotlib.lines.Line2D at 0x12ade2e10>,\n",
       " <matplotlib.lines.Line2D at 0x12ade2f60>,\n",
       " <matplotlib.lines.Line2D at 0x12ade70f0>,\n",
       " <matplotlib.lines.Line2D at 0x12ade7240>,\n",
       " <matplotlib.lines.Line2D at 0x12ade7390>,\n",
       " <matplotlib.lines.Line2D at 0x12ade74e0>,\n",
       " <matplotlib.lines.Line2D at 0x12ade7630>,\n",
       " <matplotlib.lines.Line2D at 0x12ade7780>,\n",
       " <matplotlib.lines.Line2D at 0x12ade78d0>,\n",
       " <matplotlib.lines.Line2D at 0x12ade7a20>,\n",
       " <matplotlib.lines.Line2D at 0x12ade7b70>,\n",
       " <matplotlib.lines.Line2D at 0x12ade7cc0>,\n",
       " <matplotlib.lines.Line2D at 0x12ade7e10>,\n",
       " <matplotlib.lines.Line2D at 0x12ade7f60>,\n",
       " <matplotlib.lines.Line2D at 0x12adf10f0>,\n",
       " <matplotlib.lines.Line2D at 0x12adf1240>,\n",
       " <matplotlib.lines.Line2D at 0x12adf1390>,\n",
       " <matplotlib.lines.Line2D at 0x12adf14e0>,\n",
       " <matplotlib.lines.Line2D at 0x12adf1630>,\n",
       " <matplotlib.lines.Line2D at 0x12adf1780>,\n",
       " <matplotlib.lines.Line2D at 0x12adf18d0>,\n",
       " <matplotlib.lines.Line2D at 0x12adf1a20>,\n",
       " <matplotlib.lines.Line2D at 0x12adf1b70>,\n",
       " <matplotlib.lines.Line2D at 0x12adf1cc0>,\n",
       " <matplotlib.lines.Line2D at 0x12adf1e10>,\n",
       " <matplotlib.lines.Line2D at 0x12adf1f60>,\n",
       " <matplotlib.lines.Line2D at 0x12adf50f0>,\n",
       " <matplotlib.lines.Line2D at 0x12adf5240>,\n",
       " <matplotlib.lines.Line2D at 0x12adf5390>,\n",
       " <matplotlib.lines.Line2D at 0x12adf54e0>,\n",
       " <matplotlib.lines.Line2D at 0x12adf5630>,\n",
       " <matplotlib.lines.Line2D at 0x12adf5780>,\n",
       " <matplotlib.lines.Line2D at 0x12adf58d0>,\n",
       " <matplotlib.lines.Line2D at 0x12adf5a20>,\n",
       " <matplotlib.lines.Line2D at 0x12adf5b70>,\n",
       " <matplotlib.lines.Line2D at 0x12adf5cc0>,\n",
       " <matplotlib.lines.Line2D at 0x12adf5e10>,\n",
       " <matplotlib.lines.Line2D at 0x12adf5f60>,\n",
       " <matplotlib.lines.Line2D at 0x12adfa0f0>,\n",
       " <matplotlib.lines.Line2D at 0x12adfa240>,\n",
       " <matplotlib.lines.Line2D at 0x12adfa390>,\n",
       " <matplotlib.lines.Line2D at 0x12adfa4e0>,\n",
       " <matplotlib.lines.Line2D at 0x12adfa630>,\n",
       " <matplotlib.lines.Line2D at 0x12adfa780>,\n",
       " <matplotlib.lines.Line2D at 0x12adfa8d0>,\n",
       " <matplotlib.lines.Line2D at 0x12adfaa20>,\n",
       " <matplotlib.lines.Line2D at 0x12adfab70>,\n",
       " <matplotlib.lines.Line2D at 0x12adfacc0>,\n",
       " <matplotlib.lines.Line2D at 0x12adfae10>,\n",
       " <matplotlib.lines.Line2D at 0x12adfaf60>,\n",
       " <matplotlib.lines.Line2D at 0x12adfe0f0>,\n",
       " <matplotlib.lines.Line2D at 0x12adfe240>,\n",
       " <matplotlib.lines.Line2D at 0x12adfe390>,\n",
       " <matplotlib.lines.Line2D at 0x12adfe4e0>,\n",
       " <matplotlib.lines.Line2D at 0x12adfe630>,\n",
       " <matplotlib.lines.Line2D at 0x12adfe780>,\n",
       " <matplotlib.lines.Line2D at 0x12adfe8d0>,\n",
       " <matplotlib.lines.Line2D at 0x12adfea20>,\n",
       " <matplotlib.lines.Line2D at 0x12adfeb70>,\n",
       " <matplotlib.lines.Line2D at 0x12adfecc0>,\n",
       " <matplotlib.lines.Line2D at 0x12adfee10>,\n",
       " <matplotlib.lines.Line2D at 0x12adfef60>,\n",
       " <matplotlib.lines.Line2D at 0x12ae030f0>,\n",
       " <matplotlib.lines.Line2D at 0x12ae03240>]"
      ]
     },
     "execution_count": 34,
     "metadata": {},
     "output_type": "execute_result"
    },
    {
     "data": {
      "image/png": "[encoded data removed]",
      "text/plain": [
       "<Figure size 432x288 with 1 Axes>"
      ]
     },
     "metadata": {
      "needs_background": "light"
     },
     "output_type": "display_data"
    }
   ],
   "source": [
    "model = Linear_Regression(1)\n",
    "model.fit(X, Y, 0.1, 2000, verbose=False)\n",
    "Y_ = model.predict(X)\n",
    "plt.plot(X, Y_, '.')"
   ]
  },
  {
   "cell_type": "code",
   "execution_count": 36,
   "metadata": {},
   "outputs": [
    {
     "data": {
      "text/plain": [
       "[<matplotlib.lines.Line2D at 0x10dd8f2e8>,\n",
       " <matplotlib.lines.Line2D at 0x10dd8f400>,\n",
       " <matplotlib.lines.Line2D at 0x10dd8f550>,\n",
       " <matplotlib.lines.Line2D at 0x10dd8f6a0>,\n",
       " <matplotlib.lines.Line2D at 0x10dd8f7f0>,\n",
       " <matplotlib.lines.Line2D at 0x10dd8f940>,\n",
       " <matplotlib.lines.Line2D at 0x10dd8fa90>,\n",
       " <matplotlib.lines.Line2D at 0x10dd8fbe0>,\n",
       " <matplotlib.lines.Line2D at 0x10dd8fd30>,\n",
       " <matplotlib.lines.Line2D at 0x10dd8fe80>,\n",
       " <matplotlib.lines.Line2D at 0x10dd7f128>,\n",
       " <matplotlib.lines.Line2D at 0x10dd96128>,\n",
       " <matplotlib.lines.Line2D at 0x10dd96278>,\n",
       " <matplotlib.lines.Line2D at 0x10dd963c8>,\n",
       " <matplotlib.lines.Line2D at 0x10dd96518>,\n",
       " <matplotlib.lines.Line2D at 0x10dd96668>,\n",
       " <matplotlib.lines.Line2D at 0x10dd967b8>,\n",
       " <matplotlib.lines.Line2D at 0x10dd96908>,\n",
       " <matplotlib.lines.Line2D at 0x10dd96a58>,\n",
       " <matplotlib.lines.Line2D at 0x10dd96ba8>,\n",
       " <matplotlib.lines.Line2D at 0x10dd96cf8>,\n",
       " <matplotlib.lines.Line2D at 0x10dd96e48>,\n",
       " <matplotlib.lines.Line2D at 0x10dd96f98>,\n",
       " <matplotlib.lines.Line2D at 0x10dd9c128>,\n",
       " <matplotlib.lines.Line2D at 0x10dd9c278>,\n",
       " <matplotlib.lines.Line2D at 0x10dd9c3c8>,\n",
       " <matplotlib.lines.Line2D at 0x10dd9c518>,\n",
       " <matplotlib.lines.Line2D at 0x10dd9c668>,\n",
       " <matplotlib.lines.Line2D at 0x10dd9c7b8>,\n",
       " <matplotlib.lines.Line2D at 0x10dd9c908>,\n",
       " <matplotlib.lines.Line2D at 0x10dd9ca58>,\n",
       " <matplotlib.lines.Line2D at 0x10dd9cba8>,\n",
       " <matplotlib.lines.Line2D at 0x10dd9ccf8>,\n",
       " <matplotlib.lines.Line2D at 0x10dd9ce48>,\n",
       " <matplotlib.lines.Line2D at 0x10dd9cf98>,\n",
       " <matplotlib.lines.Line2D at 0x10dda1128>,\n",
       " <matplotlib.lines.Line2D at 0x10dda1278>,\n",
       " <matplotlib.lines.Line2D at 0x10dda13c8>,\n",
       " <matplotlib.lines.Line2D at 0x10dda1518>,\n",
       " <matplotlib.lines.Line2D at 0x10dda1668>,\n",
       " <matplotlib.lines.Line2D at 0x10dda17b8>,\n",
       " <matplotlib.lines.Line2D at 0x10dda1908>,\n",
       " <matplotlib.lines.Line2D at 0x10dda1a58>,\n",
       " <matplotlib.lines.Line2D at 0x10dda1ba8>,\n",
       " <matplotlib.lines.Line2D at 0x10dda1cf8>,\n",
       " <matplotlib.lines.Line2D at 0x10dda1e48>,\n",
       " <matplotlib.lines.Line2D at 0x10dda1f98>,\n",
       " <matplotlib.lines.Line2D at 0x10dda6128>,\n",
       " <matplotlib.lines.Line2D at 0x10dda6278>,\n",
       " <matplotlib.lines.Line2D at 0x10dda63c8>,\n",
       " <matplotlib.lines.Line2D at 0x10dda6518>,\n",
       " <matplotlib.lines.Line2D at 0x10dda6668>,\n",
       " <matplotlib.lines.Line2D at 0x10dda67b8>,\n",
       " <matplotlib.lines.Line2D at 0x10dda6908>,\n",
       " <matplotlib.lines.Line2D at 0x10dda6a58>,\n",
       " <matplotlib.lines.Line2D at 0x10dda6ba8>,\n",
       " <matplotlib.lines.Line2D at 0x10dda6cf8>,\n",
       " <matplotlib.lines.Line2D at 0x10dda6e48>,\n",
       " <matplotlib.lines.Line2D at 0x10dda6f98>,\n",
       " <matplotlib.lines.Line2D at 0x10ddac128>,\n",
       " <matplotlib.lines.Line2D at 0x10ddac278>,\n",
       " <matplotlib.lines.Line2D at 0x10ddac3c8>,\n",
       " <matplotlib.lines.Line2D at 0x10ddac518>,\n",
       " <matplotlib.lines.Line2D at 0x10ddac668>,\n",
       " <matplotlib.lines.Line2D at 0x10ddac7b8>,\n",
       " <matplotlib.lines.Line2D at 0x10ddac908>,\n",
       " <matplotlib.lines.Line2D at 0x10ddaca58>,\n",
       " <matplotlib.lines.Line2D at 0x10ddacba8>,\n",
       " <matplotlib.lines.Line2D at 0x10ddaccf8>,\n",
       " <matplotlib.lines.Line2D at 0x10ddace48>,\n",
       " <matplotlib.lines.Line2D at 0x10ddacf98>,\n",
       " <matplotlib.lines.Line2D at 0x10ddb0128>,\n",
       " <matplotlib.lines.Line2D at 0x10ddb0278>,\n",
       " <matplotlib.lines.Line2D at 0x10ddb03c8>,\n",
       " <matplotlib.lines.Line2D at 0x10ddb0518>,\n",
       " <matplotlib.lines.Line2D at 0x10ddb0668>,\n",
       " <matplotlib.lines.Line2D at 0x10ddb07b8>,\n",
       " <matplotlib.lines.Line2D at 0x10ddb0908>,\n",
       " <matplotlib.lines.Line2D at 0x10ddb0a58>,\n",
       " <matplotlib.lines.Line2D at 0x10ddb0ba8>,\n",
       " <matplotlib.lines.Line2D at 0x10ddb0cf8>,\n",
       " <matplotlib.lines.Line2D at 0x10ddb0e48>,\n",
       " <matplotlib.lines.Line2D at 0x10ddb0f98>,\n",
       " <matplotlib.lines.Line2D at 0x10ddb6128>,\n",
       " <matplotlib.lines.Line2D at 0x10ddb6278>,\n",
       " <matplotlib.lines.Line2D at 0x10ddb63c8>,\n",
       " <matplotlib.lines.Line2D at 0x10ddb6518>,\n",
       " <matplotlib.lines.Line2D at 0x10ddb6668>,\n",
       " <matplotlib.lines.Line2D at 0x10ddb67b8>,\n",
       " <matplotlib.lines.Line2D at 0x10ddb6908>,\n",
       " <matplotlib.lines.Line2D at 0x10ddb6a58>,\n",
       " <matplotlib.lines.Line2D at 0x10ddb6ba8>,\n",
       " <matplotlib.lines.Line2D at 0x10ddb6cf8>,\n",
       " <matplotlib.lines.Line2D at 0x10ddb6e48>,\n",
       " <matplotlib.lines.Line2D at 0x10ddb6f98>,\n",
       " <matplotlib.lines.Line2D at 0x10ddbb128>,\n",
       " <matplotlib.lines.Line2D at 0x10ddbb278>,\n",
       " <matplotlib.lines.Line2D at 0x10ddbb3c8>,\n",
       " <matplotlib.lines.Line2D at 0x10ddbb518>,\n",
       " <matplotlib.lines.Line2D at 0x10ddbb668>]"
      ]
     },
     "execution_count": 36,
     "metadata": {},
     "output_type": "execute_result"
    },
    {
     "data": {
      "image/png": "[encoded data removed]",
      "text/plain": [
       "<Figure size 432x288 with 1 Axes>"
      ]
     },
     "metadata": {
      "needs_background": "light"
     },
     "output_type": "display_data"
    }
   ],
   "source": [
    "X_ = polynomial_expand(X, 3)\n",
    "min_ = np.min(X_, axis=1, keepdims=True)\n",
    "max_ = np.max(X_, axis=1, keepdims=True)\n",
    "train_data = (X_ - min_) / ((max_ - min_) + 1e-32)\n",
    "\n",
    "model = Linear_Regression(3)\n",
    "model.fit(train_data, Y, 0.1, 2000, verbose=False)\n",
    "\n",
    "Y_ = model.predict(train_data)\n",
    "plt.plot(X, Y_, '.')"
   ]
  },
  {
   "cell_type": "code",
   "execution_count": 83,
   "metadata": {},
   "outputs": [
    {
     "data": {
      "text/plain": [
       "[<matplotlib.lines.Line2D at 0x12c5540b8>]"
      ]
     },
     "execution_count": 83,
     "metadata": {},
     "output_type": "execute_result"
    },
    {
     "data": {
      "image/png": "[encoded data removed]",
      "text/plain": [
       "<Figure size 432x288 with 1 Axes>"
      ]
     },
     "metadata": {
      "needs_background": "light"
     },
     "output_type": "display_data"
    }
   ],
   "source": [
    "X = np.linspace(0, 1, 5)\n",
    "Y = np.random.rand(5) * 10\n",
    "plt.plot(X, Y, '.')"
   ]
  },
  {
   "cell_type": "code",
   "execution_count": 84,
   "metadata": {},
   "outputs": [
    {
     "data": {
      "text/plain": [
       "[<matplotlib.lines.Line2D at 0x12c60fc18>,\n",
       " <matplotlib.lines.Line2D at 0x12c60fd30>,\n",
       " <matplotlib.lines.Line2D at 0x12c60fe80>,\n",
       " <matplotlib.lines.Line2D at 0x12c60ffd0>,\n",
       " <matplotlib.lines.Line2D at 0x12c619160>]"
      ]
     },
     "execution_count": 84,
     "metadata": {},
     "output_type": "execute_result"
    },
    {
     "data": {
      "image/png": "[encoded data removed]",
      "text/plain": [
       "<Figure size 432x288 with 1 Axes>"
      ]
     },
     "metadata": {
      "needs_background": "light"
     },
     "output_type": "display_data"
    }
   ],
   "source": [
    "model = Linear_Regression(5)\n",
    "X_ = X[np.newaxis, :]\n",
    "X_ = polynomial_expand(X_, 5)\n",
    "Y = Y[np.newaxis, :]\n",
    "min_ = np.min(X_, axis=1, keepdims=True)\n",
    "max_ = np.max(X_, axis=1, keepdims=True)\n",
    "train_data = (X_ - min_) / ((max_ - min_) + 1e-32)\n",
    "model.fit(train_data, Y, 0.1, 10000, verbose=False)\n",
    "Y_ = model.predict(train_data)\n",
    "plt.plot(X[np.newaxis, :], Y_, '.')"
   ]
  },
  {
   "cell_type": "code",
   "execution_count": null,
   "metadata": {},
   "outputs": [],
   "source": [
    "# 多元线性回归--波士顿房价预测问题\n",
    "boston = load_boston()\n",
    "\n",
    "# 预处理训练数据\n",
    "train_data = boston['data']\n",
    "train_data = train_data.transpose()\n",
    "# 归一化\n",
    "min_ = np.min(train_data, axis=1, keepdims=True)\n",
    "max_ = np.max(train_data, axis=1, keepdims=True)\n",
    "train_data = (train_data - min_) / ((max_ - min_) + 1e-32)\n",
    "\n",
    "\n",
    "# 预处理“标签”\n",
    "label = boston['target']\n",
    "label = label[np.newaxis, :]\n",
    "\n",
    "#print(boston[\"DESCR\"])\n",
    "#print(boston['feature_names'])\n",
    "\n",
    "model = Linear_Regression(13)\n",
    "model.fit(train_data, label, 0.1)"
   ]
  }
 ],
 "metadata": {
  "kernelspec": {
   "display_name": "Python 3",
   "language": "python",
   "name": "python3"
  },
  "language_info": {
   "codemirror_mode": {
    "name": "ipython",
    "version": 3
   },
   "file_extension": ".py",
   "mimetype": "text/x-python",
   "name": "python",
   "nbconvert_exporter": "python",
   "pygments_lexer": "ipython3",
   "version": "3.7.2"
  }
 },
 "nbformat": 4,
 "nbformat_minor": 2
}
