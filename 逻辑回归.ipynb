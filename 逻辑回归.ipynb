{
 "cells": [
  {
   "cell_type": "code",
   "execution_count": 32,
   "metadata": {},
   "outputs": [],
   "source": [
    "from sklearn.datasets import load_breast_cancer\n",
    "import numpy as np\n",
    "from superai.regression.model.logistic_regression import Logistic_Regression"
   ]
  },
  {
   "cell_type": "code",
   "execution_count": 33,
   "metadata": {},
   "outputs": [],
   "source": [
    "bc = load_breast_cancer()\n",
    "#print(bc[\"DESCR\"])\n",
    "train_data = bc[\"data\"]"
   ]
  },
  {
   "cell_type": "code",
   "execution_count": 34,
   "metadata": {},
   "outputs": [
    {
     "name": "stdout",
     "output_type": "stream",
     "text": [
      "569\n",
      "0.9876977152899824\n"
     ]
    }
   ],
   "source": [
    "train_data = train_data.transpose()\n",
    "\n",
    "# 归一化\n",
    "min_ = np.min(train_data, axis=1, keepdims=True)\n",
    "max_ = np.max(train_data, axis=1, keepdims=True)\n",
    "train_data = (train_data - min_) / ((max_ - min_) + 1e-32)\n",
    "\n",
    "\n",
    "# 标签\n",
    "label = bc['target']\n",
    "label = label[np.newaxis, :]\n",
    "\n",
    "model = Logistic_Regression(30)\n",
    "model.fit(train_data, label, 0.09, iteration_count=200000, verbose = False)\n",
    "\n",
    "label_pre = model.predict(train_data)\n",
    "accuracy = (label_pre == label).sum() / train_data.shape[-1]\n",
    "print(train_data.shape[-1])\n",
    "print(accuracy)\n"
   ]
  },
  {
   "cell_type": "code",
   "execution_count": null,
   "metadata": {},
   "outputs": [],
   "source": []
  }
 ],
 "metadata": {
  "kernelspec": {
   "display_name": "Python 3",
   "language": "python",
   "name": "python3"
  },
  "language_info": {
   "codemirror_mode": {
    "name": "ipython",
    "version": 3
   },
   "file_extension": ".py",
   "mimetype": "text/x-python",
   "name": "python",
   "nbconvert_exporter": "python",
   "pygments_lexer": "ipython3",
   "version": "3.7.5"
  }
 },
 "nbformat": 4,
 "nbformat_minor": 2
}
