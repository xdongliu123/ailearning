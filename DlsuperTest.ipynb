{
 "cells": [
  {
   "cell_type": "code",
   "execution_count": 3,
   "metadata": {},
   "outputs": [],
   "source": [
    "from dlsuper.nn.NNModel import NNModel\n",
    "from dlsuper.nn.NNPipe import NNPipe\n",
    "from dlsuper.nn.NNLayer import NNLinearLayer, NNActivator\n",
    "from dlsuper.nn.Utils import softmax, softmax_derivative\n",
    "import numpy as np\n",
    "import os\n",
    "import struct"
   ]
  },
  {
   "cell_type": "code",
   "execution_count": 4,
   "metadata": {},
   "outputs": [
    {
     "name": "stdout",
     "output_type": "stream",
     "text": [
      "iteration0    cost:-7.323969058732362\n",
      "iteration100    cost:-0.012736612658109802\n",
      "iteration200    cost:-0.003021531576053581\n",
      "iteration300    cost:-0.001548298416593565\n",
      "iteration400    cost:-0.0009756338302401501\n",
      "iteration500    cost:-0.0006654901949857906\n",
      "iteration600    cost:-0.0005023211047852013\n",
      "iteration700    cost:-0.00039983894414379317\n",
      "iteration800    cost:-0.0003281030277609611\n",
      "1.0\n",
      "0.554\n",
      "over\n"
     ]
    }
   ],
   "source": [
    "def convert_to_one_hot(y, C):\n",
    "    return np.eye(C)[y.reshape(-1)].T\n",
    "\n",
    "def calculate_accuracy(model, X, Y):\n",
    "    m, n = X.shape\n",
    "    Y_pre = model.predict(X)\n",
    "    Y_pre = Y_pre == np.max(Y_pre, axis=0, keepdims = True)\n",
    "    C = np.abs(Y_pre - Y)\n",
    "    error = np.sum(C) / 2\n",
    "    print(1 - error / n)\n",
    "\n",
    "def load_mnist(path, kind='train'):\n",
    "    \"\"\"Load MNIST data from `path`\"\"\"\n",
    "    labels_path = os.path.join(path,\n",
    "                               '%s-labels-idx1-ubyte'\n",
    "                               % kind)\n",
    "    images_path = os.path.join(path,\n",
    "                               '%s-images-idx3-ubyte'\n",
    "                               % kind)\n",
    "    with open(labels_path, 'rb') as lbpath:\n",
    "        magic, n = struct.unpack('>II',\n",
    "                                 lbpath.read(8))\n",
    "        labels = np.fromfile(lbpath,\n",
    "                             dtype=np.uint8)\n",
    "\n",
    "    with open(images_path, 'rb') as imgpath:\n",
    "        magic, num, rows, cols = struct.unpack('>IIII',\n",
    "                                               imgpath.read(16))\n",
    "        images = np.fromfile(imgpath,\n",
    "                             dtype=np.uint8).reshape(len(labels), 784)\n",
    "    return images, labels\n",
    "\n",
    "\n",
    "X_train, Y_train = load_mnist(path=\"MNIST\")\n",
    "X_train = X_train.transpose()\n",
    "Y_train = convert_to_one_hot(Y_train, 10)\n",
    "m, n = X_train.shape\n",
    "# normalization fc-layer inputs\n",
    "nn_input_min = np.min(X_train, axis=1, keepdims=True)\n",
    "nn_input_max = np.max(X_train, axis=1, keepdims=True)\n",
    "nn_input_final = ((X_train - nn_input_min) / (nn_input_max - nn_input_min + 1e-11))\n",
    "X_train = nn_input_final\n",
    "\n",
    "linearLayer1 = NNLinearLayer(None, m, 40)\n",
    "activator1 = NNActivator(linearLayer1, 'tanh', 40)\n",
    "linearLayer2 = NNLinearLayer(activator1, 40, 20)\n",
    "activator2 = NNActivator(linearLayer2, 'tanh', 20)\n",
    "linearLayer3 = NNLinearLayer(activator2, 20, 10)\n",
    "outputLayer = NNActivator(linearLayer3, 'softmax', 10)\n",
    "\n",
    "pipe = NNPipe(linearLayer1, outputLayer)\n",
    "model = NNModel(pipe, cost_type=\"softmax-loss\")\n",
    "model.fit(X_train[:, 0:200], Y_train[:, 0:200], learning_rate=0.1, iteration_count=900)\n",
    "\n",
    "X_test, Y_test = load_mnist(path=\"MNIST\", kind=\"t10k\")\n",
    "X_test = X_test.transpose()\n",
    "Y_test = convert_to_one_hot(Y_test, 10)\n",
    "\n",
    "calculate_accuracy(model, X_train[:, 0:200], Y_train[:, 0:200])\n",
    "calculate_accuracy(model, X_test, Y_test)\n",
    "\n",
    "print(\"over\")"
   ]
  },
  {
   "cell_type": "code",
   "execution_count": null,
   "metadata": {},
   "outputs": [],
   "source": []
  },
  {
   "cell_type": "code",
   "execution_count": null,
   "metadata": {},
   "outputs": [],
   "source": []
  },
  {
   "cell_type": "code",
   "execution_count": null,
   "metadata": {},
   "outputs": [],
   "source": []
  }
 ],
 "metadata": {
  "kernelspec": {
   "display_name": "Python 3",
   "language": "python",
   "name": "python3"
  },
  "language_info": {
   "codemirror_mode": {
    "name": "ipython",
    "version": 3
   },
   "file_extension": ".py",
   "mimetype": "text/x-python",
   "name": "python",
   "nbconvert_exporter": "python",
   "pygments_lexer": "ipython3",
   "version": "3.7.2"
  }
 },
 "nbformat": 4,
 "nbformat_minor": 2
}
