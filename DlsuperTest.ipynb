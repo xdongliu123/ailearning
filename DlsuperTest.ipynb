{
 "cells": [
  {
   "cell_type": "code",
   "execution_count": 1,
   "metadata": {},
   "outputs": [],
   "source": [
    "from dlsuper.nn.NNModel import NNModel\n",
    "from dlsuper.nn.NNPipe import NNPipe\n",
    "from dlsuper.nn.NNLayer import NNLinearLayer, NNActivator\n",
    "from dlsuper.nn.Utils import softmax, softmax_derivative\n",
    "import numpy as np\n",
    "import os\n",
    "import struct"
   ]
  },
  {
   "cell_type": "code",
   "execution_count": null,
   "metadata": {},
   "outputs": [
    {
     "name": "stdout",
     "output_type": "stream",
     "text": [
      "iteration0    cost:-6.593095366069159\n",
      "iteration100    cost:-0.9474730376465147\n",
      "iteration200    cost:-0.7329122751090744\n"
     ]
    }
   ],
   "source": [
    "def convert_to_one_hot(y, C):\n",
    "    return np.eye(C)[y.reshape(-1)].T\n",
    "\n",
    "def calculate_accuracy(model, X, Y):\n",
    "    m, n = X.shape\n",
    "    Y_pre = model.predict(X)\n",
    "    Y_pre = Y_pre == np.max(Y_pre, axis=0, keepdims = True)\n",
    "    C = np.abs(Y_pre - Y)\n",
    "    error = np.sum(C) / 2\n",
    "    print(1 - error / n)\n",
    "\n",
    "def load_mnist(path, kind='train'):\n",
    "    \"\"\"Load MNIST data from `path`\"\"\"\n",
    "    labels_path = os.path.join(path,\n",
    "                               '%s-labels-idx1-ubyte'\n",
    "                               % kind)\n",
    "    images_path = os.path.join(path,\n",
    "                               '%s-images-idx3-ubyte'\n",
    "                               % kind)\n",
    "    with open(labels_path, 'rb') as lbpath:\n",
    "        magic, n = struct.unpack('>II',\n",
    "                                 lbpath.read(8))\n",
    "        labels = np.fromfile(lbpath,\n",
    "                             dtype=np.uint8)\n",
    "\n",
    "    with open(images_path, 'rb') as imgpath:\n",
    "        magic, num, rows, cols = struct.unpack('>IIII',\n",
    "                                               imgpath.read(16))\n",
    "        images = np.fromfile(imgpath,\n",
    "                             dtype=np.uint8).reshape(len(labels), 784)\n",
    "    return images, labels\n",
    "\n",
    "\n",
    "X_train, Y_train = load_mnist(path=\"MNIST\")\n",
    "X_train = X_train.transpose()\n",
    "Y_train = convert_to_one_hot(Y_train, 10)\n",
    "m, n = X_train.shape\n",
    "\n",
    "linearLayer1 = NNLinearLayer(None, m, 40)\n",
    "activator1 = NNActivator(linearLayer1, 'tanh', 40)\n",
    "linearLayer2 = NNLinearLayer(activator1, 40, 20)\n",
    "activator2 = NNActivator(linearLayer2, 'tanh', 20)\n",
    "linearLayer3 = NNLinearLayer(activator2, 20, 10)\n",
    "outputLayer = NNActivator(linearLayer3, 'softmax', 10)\n",
    "\n",
    "pipe = NNPipe(linearLayer1, outputLayer)\n",
    "model = NNModel(pipe, cost_type=\"softmax-loss\")\n",
    "model.fit(X_train, Y_train, iteration_count=3000)\n",
    "\n",
    "X_test, Y_test = load_mnist(path=\"MNIST\", kind=\"t10k\")\n",
    "X_test = X_test.transpose()\n",
    "Y_test = convert_to_one_hot(Y_test, 10)\n",
    "\n",
    "calculate_accuracy(model, X_train, Y_train)\n",
    "calculate_accuracy(model, X_test, Y_test)\n",
    "\n",
    "print(\"over\")"
   ]
  },
  {
   "cell_type": "code",
   "execution_count": null,
   "metadata": {},
   "outputs": [],
   "source": [
    "a = np.random.randn(3, 3, 2, 2)\n",
    "print(a.reshape(-1, 2).shape)"
   ]
  }
 ],
 "metadata": {
  "kernelspec": {
   "display_name": "Python 3",
   "language": "python",
   "name": "python3"
  },
  "language_info": {
   "codemirror_mode": {
    "name": "ipython",
    "version": 3
   },
   "file_extension": ".py",
   "mimetype": "text/x-python",
   "name": "python",
   "nbconvert_exporter": "python",
   "pygments_lexer": "ipython3",
   "version": "3.7.2"
  }
 },
 "nbformat": 4,
 "nbformat_minor": 2
}
