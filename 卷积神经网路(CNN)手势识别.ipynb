{
 "cells": [
  {
   "cell_type": "code",
   "execution_count": 9,
   "metadata": {},
   "outputs": [],
   "source": [
    "import numpy as np\n",
    "from superai.nn.layer.fc import FullyConnected\n",
    "from superai.nn.layer.conv import Conv\n",
    "from superai.nn.layer.pool import PoolingLayer\n",
    "from superai.nn.layer.activator import Activator\n",
    "from superai.nn.layer.flatten import Flatten\n",
    "from superai.nn.model.nnet import Sequence\n",
    "from superai.nn.optimizer.adam import Adam\n",
    "from common import *\n",
    "\n",
    "# load hand sign data\n",
    "X_train, Y_train, X_test, Y_test = load_signs_data()"
   ]
  },
  {
   "cell_type": "code",
   "execution_count": null,
   "metadata": {},
   "outputs": [
    {
     "name": "stdout",
     "output_type": "stream",
     "text": [
      "iteration1  cost:42.19533204787526, accuracy:0.18000000000000005\n",
      "iteration2  cost:inf, accuracy:0.18000000000000005\n",
      "iteration3  cost:inf, accuracy:0.18000000000000005\n",
      "iteration4  cost:inf, accuracy:0.18999999999999995\n",
      "iteration5  cost:32.38657254606122, accuracy:0.16000000000000003\n",
      "iteration6  cost:2.1589936688975992, accuracy:0.19999999999999996\n",
      "iteration7  cost:1.961739439807909, accuracy:0.18000000000000005\n"
     ]
    }
   ],
   "source": [
    "'''\n",
    "pad = compute_samemode_pad(64, 64, (4, 4), (1, 1))\n",
    "cnn_layer1 = Conv((3, 4, 4), 8, pad, (1, 1))\n",
    "cnn_layer1.layer = 1\n",
    "relu1 = Activator(\"relu\")\n",
    "\n",
    "pad = compute_samemode_pad(64, 64, (8, 8), (8, 8))\n",
    "pool_layer1 = PoolingLayer((8, 8), pad, 'max', (8, 8))\n",
    "\n",
    "pad = compute_samemode_pad(57, 57, (2, 2), (1, 1))\n",
    "cnn_layer2 = Conv((8, 2, 2), 16, pad, (1, 1))\n",
    "cnn_layer2.layer = 2\n",
    "relu2 = Activator(\"relu\")\n",
    "\n",
    "pad = compute_samemode_pad(8, 8, (4, 4), (4, 4))\n",
    "pool_layer2 = PoolingLayer((4, 4), pad, 'max', (4, 4))\n",
    "\n",
    "flatten = Flatten()\n",
    "dense = FullyConnected(64, 6)\n",
    "\n",
    "model = Sequence([cnn_layer1, relu1, pool_layer1, cnn_layer2, relu2, pool_layer2, flatten, dense], learning_rate=0.01, iteration_count=100, use_mini_batch=True, mini_batch_size=64)\n",
    "'''\n",
    "cnn_layer1 = Conv((3, 5, 5), 16, (2, 2, 2, 2), (1, 1))\n",
    "cnn_layer1.layer = 1\n",
    "relu1 = Activator(\"relu\")\n",
    "pool_layer1 = PoolingLayer((2, 2), (0,0,0,0), 'max', (2, 2))\n",
    "cnn_layer2 = Conv((16, 5, 5), 20, (2, 2, 2, 2), (1, 1))\n",
    "cnn_layer2.layer = 2\n",
    "relu2 = Activator(\"relu\")\n",
    "pool_layer2 = PoolingLayer((2, 2), (0,0,0,0), 'max', (2, 2))\n",
    "\n",
    "flatten = Flatten()\n",
    "dense = FullyConnected(5120, 6)\n",
    "\n",
    "model = Sequence([cnn_layer1, relu1, pool_layer1, cnn_layer2, relu2, pool_layer2, flatten, dense], learning_rate=0.01, iteration_count=300)\n",
    "model.fit(X_train[:, :, :,0:100], Y_train[:, 0:100])\n",
    "# adamOpt = Adam()\n",
    "# adamOpt.run(model, X_train[:, :, :, 0:1000], Y_train[: , 0:1000])\n"
   ]
  },
  {
   "cell_type": "code",
   "execution_count": null,
   "metadata": {},
   "outputs": [],
   "source": []
  }
 ],
 "metadata": {
  "kernelspec": {
   "display_name": "Python 3",
   "language": "python",
   "name": "python3"
  },
  "language_info": {
   "codemirror_mode": {
    "name": "ipython",
    "version": 3
   },
   "file_extension": ".py",
   "mimetype": "text/x-python",
   "name": "python",
   "nbconvert_exporter": "python",
   "pygments_lexer": "ipython3",
   "version": "3.7.2"
  }
 },
 "nbformat": 4,
 "nbformat_minor": 2
}
