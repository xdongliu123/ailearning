{
 "cells": [
  {
   "cell_type": "code",
   "execution_count": 3,
   "metadata": {},
   "outputs": [],
   "source": [
    "from superai.rnn.rnn_model import RNN_MODEL\n",
    "import numpy as np\n",
    "from common import convert_to_one_hot"
   ]
  },
  {
   "cell_type": "code",
   "execution_count": 4,
   "metadata": {},
   "outputs": [
    {
     "name": "stdout",
     "output_type": "stream",
     "text": [
      "There are 19909 total characters and 27 unique characters in your data.\n",
      "iteration0  cost:16.30134974722211\n",
      "iteration1000  cost:8.088388945699672\n",
      "iteration2000  cost:4.018152551483857\n",
      "iteration3000  cost:3.598928283301376\n",
      "iteration4000  cost:3.375963135708446\n",
      "iteration5000  cost:2.460910083938024\n",
      "iteration6000  cost:4.246924617739672\n",
      "iteration7000  cost:4.205357378338871\n",
      "iteration8000  cost:2.557573882365208\n",
      "iteration9000  cost:2.739228254937504\n",
      "iteration10000  cost:2.5834830416693046\n",
      "iteration11000  cost:2.1061749159827565\n",
      "iteration12000  cost:3.4983270493790535\n",
      "iteration13000  cost:2.184831482337777\n",
      "iteration14000  cost:2.3623303472882298\n",
      "iteration15000  cost:2.541251303456937\n",
      "iteration16000  cost:3.6134057703893783\n",
      "iteration17000  cost:2.4321581771552037\n",
      "iteration18000  cost:2.441078521732967\n",
      "iteration19000  cost:2.442788162397499\n",
      "iteration20000  cost:3.1629609206213765\n",
      "iteration21000  cost:2.6887270955203983\n",
      "iteration22000  cost:2.38808398205493\n",
      "iteration23000  cost:2.9706348589654343\n",
      "iteration24000  cost:2.851769774869898\n",
      "iteration25000  cost:2.1581560256350243\n",
      "iteration26000  cost:3.0976873783891543\n",
      "iteration27000  cost:2.3175396889570887\n",
      "iteration28000  cost:2.1673982595702337\n",
      "iteration29000  cost:2.5515614243946603\n",
      "iteration30000  cost:2.0846707603350914\n",
      "iteration31000  cost:2.219194558420305\n",
      "iteration32000  cost:2.57295727090871\n",
      "iteration33000  cost:1.8513036933359137\n",
      "iteration34000  cost:2.9079627883044235\n",
      "iteration35000  cost:1.8295160505606844\n",
      "iteration36000  cost:3.1938411806150113\n",
      "iteration37000  cost:2.278872536401078\n",
      "iteration38000  cost:1.9720566362870608\n",
      "iteration39000  cost:1.8470661686190795\n",
      "uurcmeorauatrus\n",
      "aadrsaa\n",
      "tocnfsoaunsjs\n",
      "absseb\n",
      "sdneooayasourus\n",
      "cothaanunu\n",
      "aieooeufust\n",
      "tshbantoun\n",
      "nepoevassu\n",
      "teaanteuanhus\n"
     ]
    }
   ],
   "source": [
    "data = open('train_data/dinos.txt', 'r').read()\n",
    "data= data.lower()\n",
    "chars = list(set(data))\n",
    "data_size, vocab_size = len(data), len(chars)\n",
    "print('There are %d total characters and %d unique characters in your data.' % (data_size, vocab_size))\n",
    "\n",
    "char_to_ix = { ch:i for i,ch in enumerate(sorted(chars)) }\n",
    "ix_to_char = { i:ch for i,ch in enumerate(sorted(chars)) }\n",
    "with open(\"train_data/dinos.txt\") as f:\n",
    "    examples = f.readlines()\n",
    "examples = [x.lower().strip() for x in examples]\n",
    "X = []\n",
    "Y = []\n",
    "count = len(examples)\n",
    "for j in range(count):\n",
    "    x_j = [0] + [char_to_ix[ch] for ch in examples[j]] \n",
    "    y_j = x_j[1:] + [char_to_ix[\"\\n\"]]\n",
    "    x = convert_to_one_hot(np.array(x_j), 27)\n",
    "    x[0, 0] = 0\n",
    "    y = convert_to_one_hot(np.array(y_j), 27)\n",
    "    X.append(x)\n",
    "    Y.append(y)\n",
    "\n",
    "# you can select normal or lstm type\n",
    "model = RNN_MODEL(27, 27, 50, \"normal\", 6)\n",
    "for i in range(40000):\n",
    "    x, y = X[i % count], Y[i % count]\n",
    "    loss = model.train(x, y)\n",
    "    if i % 1000 == 0:\n",
    "        print(\"iteration{0}  cost:{1}\".format(i, loss))\n",
    "for i in range(10):\n",
    "    indices = model.sample(char_to_ix[\"\\n\"], i+6)\n",
    "    chars = [ix_to_char[idx] for idx in indices]\n",
    "    print(''.join(chars[:-1]))"
   ]
  },
  {
   "cell_type": "code",
   "execution_count": null,
   "metadata": {},
   "outputs": [],
   "source": []
  }
 ],
 "metadata": {
  "kernelspec": {
   "display_name": "Python 3",
   "language": "python",
   "name": "python3"
  },
  "language_info": {
   "codemirror_mode": {
    "name": "ipython",
    "version": 3
   },
   "file_extension": ".py",
   "mimetype": "text/x-python",
   "name": "python",
   "nbconvert_exporter": "python",
   "pygments_lexer": "ipython3",
   "version": "3.7.5"
  }
 },
 "nbformat": 4,
 "nbformat_minor": 2
}
